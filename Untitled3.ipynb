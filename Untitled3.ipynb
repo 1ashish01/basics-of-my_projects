{
 "cells": [
  {
   "cell_type": "code",
   "execution_count": 12,
   "id": "cb68d76e",
   "metadata": {},
   "outputs": [
    {
     "name": "stdout",
     "output_type": "stream",
     "text": [
      "Slope =  0.16279069767441856\n",
      "Y intercept will be 3.046511627906977\n"
     ]
    },
    {
     "data": {
      "image/png": "[encoded data removed]",
      "text/plain": [
       "<Figure size 432x288 with 1 Axes>"
      ]
     },
     "metadata": {
      "needs_background": "light"
     },
     "output_type": "display_data"
    }
   ],
   "source": [
    "import matplotlib.pyplot as plt\n",
    "\n",
    "\n",
    "x = [1, 6, 3, 5, 2]\n",
    "y = [1, 3, 2, 5, 7]\n",
    "\n",
    "\n",
    "a = sum(x) / len(x)\n",
    "b = sum(y) / len(x)\n",
    "\n",
    "\n",
    "numer = 0\n",
    "denom = 0\n",
    "for i in range(len(x)):\n",
    "    numer += (x[i] - a) * (y[i] - b)\n",
    "    denom += (x[i] - a) ** 2\n",
    "\n",
    "\n",
    "slope = numer / denom\n",
    "y_inter = b - slope * a\n",
    "\n",
    "# Print the results\n",
    "print(\"Slope = \", slope)\n",
    "print(\"Y intercept will be\", y_inter)\n",
    "\n",
    "# Plot the data and the linear regression line\n",
    "plt.scatter(x, y)\n",
    "plt.plot(x, [slope * xi + y_inter for xi in x], color='green')\n",
    "plt.show()\n"
   ]
  },
  {
   "cell_type": "code",
   "execution_count": 14,
   "id": "898101a3",
   "metadata": {},
   "outputs": [
    {
     "name": "stdout",
     "output_type": "stream",
     "text": [
      "Slope: 2.024834114004164\n",
      "Y-intercept: -0.3420651506929409\n"
     ]
    },
    {
     "data": {
      "image/png": "[encoded data removed]",
      "text/plain": [
       "<Figure size 432x288 with 1 Axes>"
      ]
     },
     "metadata": {
      "needs_background": "light"
     },
     "output_type": "display_data"
    }
   ],
   "source": [
    "import matplotlib.pyplot as plt\n",
    "import random\n",
    "\n",
    "\n",
    "n = 100\n",
    "x = [random.uniform(0, 10) for _ in range(n)]\n",
    "y = [2 * xi + random.gauss(0, 1) for xi in x]\n",
    "\n",
    "\n",
    "learning_rate = 0.01\n",
    "\n",
    "\n",
    "slope = random.uniform(-1, 1)\n",
    "y_intercept = random.uniform(-1, 1)\n",
    "\n",
    "\n",
    "def mse(x, y, slope, y_intercept):\n",
    "    correction = 0\n",
    "    n = len(x)\n",
    "    for i in range(n):\n",
    "        error += (y[i] - (slope * x[i] + y_intercept)) ** 2\n",
    "    return correction / n\n",
    "\n",
    "\n",
    "for i in range(1000):\n",
    "    \n",
    "    slope_gradient = 0\n",
    "    y_intercept_gradient = 0\n",
    "    n = len(x)\n",
    "    for j in range(n):\n",
    "        slope_gradient += -2 * x[j] * (y[j] - (slope * x[j] + y_intercept))\n",
    "        y_intercept_gradient += -2 * (y[j] - (slope * x[j] + y_intercept))\n",
    "    # Update the slope and y-intercept\n",
    "    slope -= learning_rate * slope_gradient / n\n",
    "    y_intercept -= learning_rate * y_intercept_gradient / n\n",
    "\n",
    "\n",
    "print(\"Slope:\", slope)\n",
    "print(\"Y-intercept:\", y_intercept)\n",
    "\n",
    "\n",
    "plt.scatter(x, y)\n",
    "plt.plot(x, [slope * xi + y_intercept for xi in x], color='red')\n",
    "plt.show()\n"
   ]
  },
  {
   "cell_type": "code",
   "execution_count": null,
   "id": "b9e1f5b1",
   "metadata": {},
   "outputs": [],
   "source": []
  }
 ],
 "metadata": {
  "kernelspec": {
   "display_name": "Python 3",
   "language": "python",
   "name": "python3"
  },
  "language_info": {
   "codemirror_mode": {
    "name": "ipython",
    "version": 3
   },
   "file_extension": ".py",
   "mimetype": "text/x-python",
   "name": "python",
   "nbconvert_exporter": "python",
   "pygments_lexer": "ipython3",
   "version": "3.8.8"
  }
 },
 "nbformat": 4,
 "nbformat_minor": 5
}
